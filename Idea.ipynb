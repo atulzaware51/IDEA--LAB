{
  "nbformat": 4,
  "nbformat_minor": 0,
  "metadata": {
    "colab": {
      "provenance": [],
      "authorship_tag": "ABX9TyP39p8wbTime4JpBSZQRwvj",
      "include_colab_link": true
    },
    "kernelspec": {
      "name": "python3",
      "display_name": "Python 3"
    },
    "language_info": {
      "name": "python"
    }
  },
  "cells": [
    {
      "cell_type": "markdown",
      "metadata": {
        "id": "view-in-github",
        "colab_type": "text"
      },
      "source": [
        "<a href=\"https://colab.research.google.com/github/atulzaware51/IDEA--LAB/blob/main/Idea.ipynb\" target=\"_parent\"><img src=\"https://colab.research.google.com/assets/colab-badge.svg\" alt=\"Open In Colab\"/></a>"
      ]
    },
    {
      "cell_type": "code",
      "execution_count": null,
      "metadata": {
        "colab": {
          "base_uri": "https://localhost:8080/"
        },
        "id": "C4nmmYHXAngM",
        "outputId": "016456c3-90c5-487b-f3e2-036db41fe109"
      },
      "outputs": [
        {
          "output_type": "stream",
          "name": "stdout",
          "text": [
            "Enter a number: 5\n",
            "5 is a prime number.\n"
          ]
        }
      ],
      "source": [
        "def is_prime(n):\n",
        "    if n <= 1:\n",
        "        return False\n",
        "    for i in range(2, int(n ** 0.5) + 1):\n",
        "        if n % i == 0:\n",
        "            return False\n",
        "    return True\n",
        "\n",
        "num = int(input(\"Enter a number: \"))\n",
        "if is_prime(num):\n",
        "    print(f\"{num} is a prime number.\")\n",
        "else:\n",
        "    print(f\"{num} is not a prime number.\")"
      ]
    },
    {
      "cell_type": "code",
      "source": [
        "def calculate_sum(numbers):\n",
        "    return sum(numbers)\n",
        "\n",
        "def main():\n",
        "    numbers = list(map(int, input(\"Enter numbers separated by space: \").split()))\n",
        "    total_sum = calculate_sum(numbers)\n",
        "    print(f\"The sum of the numbers is: {total_sum}\")\n",
        "\n",
        "if __name__ == \"__main__\":\n",
        "    main()"
      ],
      "metadata": {
        "colab": {
          "base_uri": "https://localhost:8080/"
        },
        "id": "wrRumc6bA3to",
        "outputId": "c1767ab5-2c7b-44f9-ca5d-cc569371a871"
      },
      "execution_count": null,
      "outputs": [
        {
          "output_type": "stream",
          "name": "stdout",
          "text": [
            "Enter numbers separated by space: 4\n",
            "The sum of the numbers is: 4\n"
          ]
        }
      ]
    },
    {
      "cell_type": "code",
      "source": [
        "def print_upper_triangle(n):\n",
        "    for i in range(1, n + 1):\n",
        "        print(\"* \" * i)\n",
        "\n",
        "n = int(input(\"Enter the number of rows: \"))\n",
        "print_upper_triangle(n)"
      ],
      "metadata": {
        "colab": {
          "base_uri": "https://localhost:8080/"
        },
        "id": "2g-hd-f0BJf7",
        "outputId": "5796e848-d7b7-4e1f-b46b-a6e3568761c9"
      },
      "execution_count": null,
      "outputs": [
        {
          "output_type": "stream",
          "name": "stdout",
          "text": [
            "Enter the number of rows: 5\n",
            "* \n",
            "* * \n",
            "* * * \n",
            "* * * * \n",
            "* * * * * \n"
          ]
        }
      ]
    },
    {
      "cell_type": "code",
      "source": [],
      "metadata": {
        "id": "HoxHk8RYBmn5"
      },
      "execution_count": null,
      "outputs": []
    }
  ]
}